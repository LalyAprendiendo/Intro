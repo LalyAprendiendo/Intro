{
  "cells": [
    {
      "cell_type": "markdown",
      "metadata": {
        "id": "view-in-github",
        "colab_type": "text"
      },
      "source": [
        "<a href=\"https://colab.research.google.com/github/LalyAprendiendo/Intro/blob/main/Clase01_unlu_1.ipynb\" target=\"_parent\"><img src=\"https://colab.research.google.com/assets/colab-badge.svg\" alt=\"Open In Colab\"/></a>"
      ]
    },
    {
      "cell_type": "markdown",
      "source": [
        "# <center> **CLASE 01- ANÁLISIS EXPLORATORIO DE DATOS** </center>\n"
      ],
      "metadata": {
        "id": "YK6XrjadqgwM"
      }
    },
    {
      "cell_type": "markdown",
      "source": [
        "![image.png](data:image/png;base64,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)  ![image.png](data:image/png;base64,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)  ![image.png](data:image/png;base64,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)"
      ],
      "metadata": {
        "id": "QusdoJPhMgzR"
      }
    },
    {
      "cell_type": "markdown",
      "source": [],
      "metadata": {
        "id": "VVSSB9ks2AVX"
      }
    },
    {
      "cell_type": "markdown",
      "source": [],
      "metadata": {
        "id": "UGRRZ_3p2BoM"
      }
    },
    {
      "cell_type": "code",
      "source": [],
      "metadata": {
        "id": "vcXcg0z_2GkZ"
      },
      "execution_count": null,
      "outputs": []
    },
    {
      "cell_type": "markdown",
      "metadata": {
        "id": "tJHDURCRvYvX"
      },
      "source": [
        "# **Método Local**"
      ]
    },
    {
      "cell_type": "code",
      "execution_count": null,
      "metadata": {
        "id": "1eCnShowpn98"
      },
      "outputs": [],
      "source": [
        "# Importación de librerias\n",
        "import pandas as pd\n",
        "import io\n",
        "import os"
      ]
    },
    {
      "cell_type": "code",
      "source": [
        "from google.colab import files\n",
        "\n",
        "# Creamos el objeto uploaded\n",
        "uploaded = files.upload()"
      ],
      "metadata": {
        "id": "DVbZjykOLaWv"
      },
      "execution_count": null,
      "outputs": []
    },
    {
      "cell_type": "code",
      "source": [
        "# Visualizamos el objeto\n",
        "uploaded"
      ],
      "metadata": {
        "id": "TU-CkEIGQDTb"
      },
      "execution_count": null,
      "outputs": []
    },
    {
      "cell_type": "code",
      "source": [
        "# Método type:\n",
        "type(uploaded)"
      ],
      "metadata": {
        "id": "8Kvyrcq3QI9c"
      },
      "execution_count": null,
      "outputs": []
    },
    {
      "cell_type": "code",
      "source": [
        "# Levantamos el csv en formato DF usando pandas:\n",
        "df = pd.read_csv(io.BytesIO(uploaded['dnrpa-robos-recuperos-autos-202201.csv']),sep=\",\")\n",
        "df.head(10) # vemos los 10 primeros registros"
      ],
      "metadata": {
        "id": "Ruk5BnRLMeOt"
      },
      "execution_count": null,
      "outputs": []
    },
    {
      "cell_type": "markdown",
      "metadata": {
        "id": "7R2PKvs7vbma"
      },
      "source": [
        "# **Método Drive**"
      ]
    },
    {
      "cell_type": "code",
      "execution_count": null,
      "metadata": {
        "id": "yfZDbY3IrEYP"
      },
      "outputs": [],
      "source": [
        "# Montamos google DRIVE\n",
        "from google.colab import drive\n",
        "import os\n",
        "drive.mount('/content/gdrive')\n",
        "\n",
        "# Establecer ruta de acceso en dr:\n",
        "print(os.getcwd())\n",
        "os.chdir('/content/gdrive/My Drive/Unlu/')"
      ]
    },
    {
      "cell_type": "code",
      "execution_count": null,
      "metadata": {
        "id": "DrqN1RwzrHgt"
      },
      "outputs": [],
      "source": [
        "# Levantamos el csv en un df con pandas:\n",
        "df2 = pd.read_csv('dnrpa-robos-recuperos-autos-202201.csv',sep=',')\n",
        "df2.head(10)"
      ]
    },
    {
      "cell_type": "code",
      "execution_count": null,
      "metadata": {
        "id": "zd2rNuPqwnK4"
      },
      "outputs": [],
      "source": [
        "# Tamaño data set:\n",
        "df2.shape\n",
        "print('El df tiene {} instancias y {} features'.format(df2.shape[0],df2.shape[1]))"
      ]
    },
    {
      "cell_type": "code",
      "execution_count": null,
      "metadata": {
        "id": "vYsQNIuVqwoW"
      },
      "outputs": [],
      "source": [
        "# Tipo de variables:\n",
        "df2.dtypes"
      ]
    },
    {
      "cell_type": "markdown",
      "source": [
        "## **Breve descripción gráfica**"
      ],
      "metadata": {
        "id": "ssL4_xR6q9j-"
      }
    },
    {
      "cell_type": "markdown",
      "metadata": {
        "id": "bckb0eO4xV08"
      },
      "source": [
        "### Marca más robada"
      ]
    },
    {
      "cell_type": "code",
      "execution_count": null,
      "metadata": {
        "id": "zBEmFhGbxZa5"
      },
      "outputs": [],
      "source": [
        "df2['automotor_marca_descripcion'].value_counts().plot(kind='bar', figsize=(12,6), ylabel='Frecuencia', title='Marcas más robadas');"
      ]
    },
    {
      "cell_type": "markdown",
      "source": [
        "### Modelos más robados"
      ],
      "metadata": {
        "id": "RD8imK4CrI-P"
      }
    },
    {
      "cell_type": "code",
      "execution_count": null,
      "metadata": {
        "id": "oSqF4N3Hx_Ji"
      },
      "outputs": [],
      "source": [
        "df2['automotor_modelo_descripcion'].value_counts().iloc[0:50].plot(kind='bar', figsize=(12,6), ylabel='Frecuencia', title='Modelos más robados');"
      ]
    },
    {
      "cell_type": "markdown",
      "source": [
        "### Robos según género"
      ],
      "metadata": {
        "id": "VqdLLbw4rMtM"
      }
    },
    {
      "cell_type": "code",
      "execution_count": null,
      "metadata": {
        "id": "IhNkfHPoymQ2"
      },
      "outputs": [],
      "source": [
        "df2['titular_genero'].value_counts().plot(kind='bar', figsize=(12,6), ylabel='Frecuencia', title='Robos por género');"
      ]
    },
    {
      "cell_type": "markdown",
      "source": [
        "### Procedencia del titular"
      ],
      "metadata": {
        "id": "ff7OhCWBrQsN"
      }
    },
    {
      "cell_type": "code",
      "execution_count": null,
      "metadata": {
        "id": "rX70BiWWy8mh"
      },
      "outputs": [],
      "source": [
        "df2['titular_domicilio_provincia'].value_counts().plot(kind='bar', figsize=(12,6), ylabel='Frecuencia', title='Procedencia del titular');"
      ]
    },
    {
      "cell_type": "markdown",
      "source": [
        "# **URL-Github**\n",
        "\n",
        "\n",
        "https://github.com/jbagnato/machine-learning"
      ],
      "metadata": {
        "id": "XUh7H6miGPrd"
      }
    },
    {
      "cell_type": "markdown",
      "source": [
        "**csv**"
      ],
      "metadata": {
        "id": "O7n-qeRI_oel"
      }
    },
    {
      "cell_type": "markdown",
      "source": [
        "https://raw.githubusercontent.com/jbagnato/machine-learning/master/comprar_alquilar.csv"
      ],
      "metadata": {
        "id": "Ne7VCYyVglr7"
      }
    },
    {
      "cell_type": "code",
      "source": [
        "# Archivo en formato csv\n",
        "# url = 'https://raw.githubusercontent.com/jbagnato/machine-learning/master/comprar_alquilar.csv'\n",
        "df = pd.read_csv('https://raw.githubusercontent.com/jbagnato/machine-learning/master/comprar_alquilar.csv')\n",
        "df.head(10)"
      ],
      "metadata": {
        "id": "5Ip-Xyu3GMLP"
      },
      "execution_count": null,
      "outputs": []
    },
    {
      "cell_type": "markdown",
      "source": [
        "**JSON**"
      ],
      "metadata": {
        "id": "jHKb8jm-IPf8"
      }
    },
    {
      "cell_type": "code",
      "source": [
        "# De una URL seleccionamos un archivo json\n",
        "URL = 'http://raw.githubusercontent.com/BindiChen/machine-learning/master/data-analysis/027-pandas-convert-json/data/simple.json'\n",
        "df = pd.read_json(URL)\n",
        "df.head()"
      ],
      "metadata": {
        "id": "9PCbSoBRGMXt"
      },
      "execution_count": null,
      "outputs": []
    },
    {
      "cell_type": "code",
      "source": [
        "url='https://raw.githubusercontent.com/bttmly/nba/master/data/teams.json'\n",
        "df= pd.read_json(url)\n",
        "df.head()"
      ],
      "metadata": {
        "id": "Nh77f4yuIJxh"
      },
      "execution_count": null,
      "outputs": []
    },
    {
      "cell_type": "markdown",
      "source": [
        "# **OpenML**\n",
        "\n",
        "**OpenML** es una plataforma abierta para compartir conjuntos de datos, algoritmos y experimentos, que permite aprender ML."
      ],
      "metadata": {
        "id": "MVjhB4yqRw-y"
      }
    },
    {
      "cell_type": "code",
      "source": [
        "# soporte para cargar dataset de https://www.openml.org/\n",
        "!pip install openml\n",
        "import openml"
      ],
      "metadata": {
        "id": "8yzKb9qoRHis"
      },
      "execution_count": null,
      "outputs": []
    },
    {
      "cell_type": "code",
      "source": [
        "# Lista de data frames OpenML:\n",
        "datasets_df = openml.datasets.list_datasets(output_format='dataframe')\n",
        "print(datasets_df.head())"
      ],
      "metadata": {
        "id": "bzNvPW4NRHkN"
      },
      "execution_count": null,
      "outputs": []
    },
    {
      "cell_type": "markdown",
      "source": [
        "# **Descargar un datset de OpenML**"
      ],
      "metadata": {
        "id": "oT2Kh7zdTZmC"
      }
    },
    {
      "cell_type": "code",
      "source": [
        "# dataset #5:\n",
        "dataset = openml.datasets.get_dataset(5)\n",
        "dataset"
      ],
      "metadata": {
        "id": "8DBzFGORT7zx"
      },
      "execution_count": null,
      "outputs": []
    },
    {
      "cell_type": "code",
      "source": [
        "print(dataset.description)"
      ],
      "metadata": {
        "id": "aJr-Idc6VgSL"
      },
      "execution_count": null,
      "outputs": []
    },
    {
      "cell_type": "markdown",
      "source": [
        "https://www.openml.org/d/1461"
      ],
      "metadata": {
        "id": "yP-JJL63lN3v"
      }
    },
    {
      "cell_type": "code",
      "source": [
        "#Bank-Marketing dataset https://www.openml.org/d/1461\n",
        "dataset = openml.datasets.get_dataset(1461)\n",
        "\n",
        "# Print a summary\n",
        "print(f\"This is dataset '{dataset.name}', the target feature is \"\n",
        "      f\"'{dataset.default_target_attribute}'\")\n",
        "print(f\"URL: {dataset.url}\")\n",
        "print(dataset.description[:800])"
      ],
      "metadata": {
        "id": "cpchDyFbTOfa"
      },
      "execution_count": null,
      "outputs": []
    },
    {
      "cell_type": "code",
      "source": [
        "# get data:\n",
        "X, y, categorical_indicator, attribute_names = dataset.get_data(\n",
        "    dataset_format='dataframe',\n",
        "    target=dataset.default_target_attribute\n",
        ")"
      ],
      "metadata": {
        "id": "YQS_jd45XAHa"
      },
      "execution_count": null,
      "outputs": []
    },
    {
      "cell_type": "code",
      "source": [
        "# Atributos:\n",
        "attribute_names"
      ],
      "metadata": {
        "id": "FomiIGU9XIa5"
      },
      "execution_count": null,
      "outputs": []
    },
    {
      "cell_type": "code",
      "source": [
        "# Indicador de categoría\n",
        "categorical_indicator"
      ],
      "metadata": {
        "id": "PrLhbsXMJL0d"
      },
      "execution_count": null,
      "outputs": []
    },
    {
      "cell_type": "code",
      "source": [
        "# Valores de X (características):\n",
        "X"
      ],
      "metadata": {
        "id": "80b0cC90XLdo"
      },
      "execution_count": null,
      "outputs": []
    },
    {
      "cell_type": "markdown",
      "source": [
        "\n",
        "**bank client data:**\n",
        "\n",
        "1 - age (numeric)\n",
        "\n",
        "2 - job : type of job (categorical: \"admin.\",\"unknown\",\"unemployed\",\"management\",\"housemaid\",\"entrepreneur\", \"student\",\"blue-collar\",\"self-employed\",\"retired\",\"technician\",\"services\")\n",
        "\n",
        "3 - marital : marital status (categorical: \"married\",\"divorced\",\"single\"; note: \"divorced\" means divorced or widowed)\n",
        "\n",
        "4 - education (categorical: \"unknown\",\"secondary\",\"primary\",\"tertiary\")\n",
        "\n",
        "5 - default: has credit in default? (binary: \"yes\",\"no\")\n",
        "\n",
        "6 - balance: average yearly balance, in euros (numeric)\n",
        "\n",
        "7 - housing: has housing loan? (binary: \"yes\",\"no\")\n",
        "\n",
        "8 - loan: has personal loan? (binary: \"yes\",\"no\")\n",
        "\n",
        "related with the last contact of the current campaign:\n",
        "\n",
        "9 - contact: contact communication type (categorical: \"unknown\",\"telephone\",\"cellular\")\n",
        "\n",
        "10 - day: last contact day of the month (numeric)\n",
        "\n",
        "11 - month: last contact month of year (categorical: \"jan\", \"feb\", \"mar\", ..., \"nov\", \"dec\")\n",
        "\n",
        "12 - duration: last contact duration, in seconds (numeric)\n",
        "\n",
        "other attributes:\n",
        "\n",
        "13 - campaign: number of contacts performed during this campaign and for this client (numeric, includes last contact)\n",
        "\n",
        "14 - pdays: number of days that passed by after the client was last contacted from a previous campaign (numeric, -1 means client was not previously contacted)\n",
        "\n",
        "15 - previous: number of contacts performed before this campaign and for this client (numeric)\n",
        "\n",
        "16 - poutcome: outcome of the previous marketing campaign (categorical: \"unknown\",\"other\",\"failure\",\"success\")\n",
        "\n",
        "output variable (desired target):\n",
        "\n",
        "17 - y - has the client subscribed a term deposit? (binary: \"yes\",\"no\")"
      ],
      "metadata": {
        "id": "_VUDfrqedAxf"
      }
    },
    {
      "cell_type": "code",
      "source": [
        "# Renombramos las features:\n",
        "X = X.rename(columns={'V1':'age','V2':' job','V3':' marital', 'V4':'education', 'V5': 'default', 'V6':'balance', 'V7':'housing',\n",
        "                  'V8':'loan','V9':'contact','V10':'day','V11':'month','V12':'duration','V13':'campaign',\n",
        "                  'V14':'pdays','V15':'previous','V16':'poutcome'})\n",
        "X"
      ],
      "metadata": {
        "id": "nMNcoYl0bYuQ"
      },
      "execution_count": null,
      "outputs": []
    },
    {
      "cell_type": "code",
      "source": [
        "# Variable target/objetivo:\n",
        "y"
      ],
      "metadata": {
        "id": "yZ5BouogXU84"
      },
      "execution_count": null,
      "outputs": []
    },
    {
      "cell_type": "code",
      "source": [
        "# Concatenamos las X e Y:\n",
        "import pandas as pd\n",
        "\n",
        "combined_data = pd.concat([X, y], axis=1)\n",
        "combined_data"
      ],
      "metadata": {
        "id": "BxA1asrTXXtb"
      },
      "execution_count": null,
      "outputs": []
    },
    {
      "cell_type": "markdown",
      "source": [
        "## **Limpieza de datos**"
      ],
      "metadata": {
        "id": "HDUIWJd0ObGr"
      }
    },
    {
      "cell_type": "code",
      "source": [
        "# Método head:\n",
        "df2.head()"
      ],
      "metadata": {
        "id": "oxNgf94yOWcL"
      },
      "execution_count": null,
      "outputs": []
    },
    {
      "cell_type": "code",
      "source": [
        "# Info:\n",
        "df2.info()"
      ],
      "metadata": {
        "id": "UPzRyhPGgGqh"
      },
      "execution_count": null,
      "outputs": []
    },
    {
      "cell_type": "code",
      "source": [
        "# Vemos la cantidad de nulos:\n",
        "df2.isnull().sum()"
      ],
      "metadata": {
        "id": "ND9xd9OROXC0"
      },
      "execution_count": null,
      "outputs": []
    },
    {
      "cell_type": "code",
      "source": [
        "df2.isna().sum()"
      ],
      "metadata": {
        "id": "mOGbF0hCOoBx"
      },
      "execution_count": null,
      "outputs": []
    },
    {
      "cell_type": "code",
      "source": [
        "# Seleccionamos una variable:\n",
        "df2['titular_pais_nacimiento']"
      ],
      "metadata": {
        "id": "Ghdb9Ke6O-As"
      },
      "execution_count": null,
      "outputs": []
    },
    {
      "cell_type": "code",
      "source": [
        "df2['titular_pais_nacimiento_id'][2]"
      ],
      "metadata": {
        "id": "BC0ytEGhbZnK"
      },
      "execution_count": null,
      "outputs": []
    },
    {
      "cell_type": "code",
      "source": [
        "# Método value_counts:\n",
        "df2['titular_pais_nacimiento'].value_counts()"
      ],
      "metadata": {
        "id": "niS3MdfWgX0z"
      },
      "execution_count": null,
      "outputs": []
    },
    {
      "cell_type": "code",
      "source": [
        "df2['titular_pais_nacimiento_id'].value_counts()"
      ],
      "metadata": {
        "id": "H8zO8EAGbZrv"
      },
      "execution_count": null,
      "outputs": []
    },
    {
      "cell_type": "code",
      "source": [
        "# Elimina los registros NA con el método dropna\n",
        "df2 = df2.dropna()\n",
        "df2"
      ],
      "metadata": {
        "id": "eEP-mIgccyIM"
      },
      "execution_count": null,
      "outputs": []
    },
    {
      "cell_type": "code",
      "source": [
        "df2.info()"
      ],
      "metadata": {
        "id": "b7fGNnMgcyQy"
      },
      "execution_count": null,
      "outputs": []
    },
    {
      "cell_type": "markdown",
      "source": [
        "## **KAGGLE**\n",
        "\n",
        "\n",
        "https://kaggle.com/datasets"
      ],
      "metadata": {
        "id": "CvwHERvAeG8C"
      }
    },
    {
      "cell_type": "code",
      "source": [
        "# Montamos google DRIVE\n",
        "from google.colab import drive\n",
        "import os\n",
        "drive.mount('/content/gdrive')\n",
        "\n",
        "# Establecer ruta de acceso en dr:\n",
        "print(os.getcwd())\n",
        "os.chdir('/content/gdrive/My Drive/kaggle/')"
      ],
      "metadata": {
        "id": "O_8ywr-mUtnv"
      },
      "execution_count": null,
      "outputs": []
    },
    {
      "cell_type": "code",
      "source": [
        "!ls -lai '/content/gdrive/My Drive/kaggle'"
      ],
      "metadata": {
        "id": "Ip7G2_7GXCsq"
      },
      "execution_count": null,
      "outputs": []
    },
    {
      "cell_type": "code",
      "source": [
        "from google.colab import files\n",
        "files.upload()  # Esto me permite cargar el archivo .json"
      ],
      "metadata": {
        "id": "txAs4eLxUuO0"
      },
      "execution_count": null,
      "outputs": []
    },
    {
      "cell_type": "code",
      "source": [
        "!pip install -q kaggle\n",
        "!mkdir -p ~/.kaggle\n",
        "!cp kaggle.json ~/.kaggle/\n",
        "!ls ~/.kaggle\n",
        "!chmod 600 /root/.kaggle/kaggle.json  # establecer permiso     "
      ],
      "metadata": {
        "id": "6jGrEIaAUyUF"
      },
      "execution_count": null,
      "outputs": []
    },
    {
      "cell_type": "code",
      "source": [
        "# !kaggle datasets download -d arianazmoudeh/airbnbopendata"
      ],
      "metadata": {
        "id": "2LEoI6NhU6ZG"
      },
      "execution_count": null,
      "outputs": []
    },
    {
      "cell_type": "code",
      "source": [
        "!kaggle datasets download -d fedesoriano/stroke-prediction-dataset"
      ],
      "metadata": {
        "id": "bD8F2diGZJk9"
      },
      "execution_count": null,
      "outputs": []
    },
    {
      "cell_type": "code",
      "source": [
        "#descomprime the zip files:\n",
        "# !unzip \\*.zip  && rm *.zip"
      ],
      "metadata": {
        "id": "j4ix_trMWc5M"
      },
      "execution_count": null,
      "outputs": []
    },
    {
      "cell_type": "code",
      "source": [
        "data = pd.read_csv('healthcare-dataset-stroke-data.csv')\n",
        "data.head(5)"
      ],
      "metadata": {
        "id": "60ygtjIdWfSp"
      },
      "execution_count": null,
      "outputs": []
    },
    {
      "cell_type": "code",
      "source": [
        "data.shape"
      ],
      "metadata": {
        "id": "tbNk1SkOZlKN"
      },
      "execution_count": null,
      "outputs": []
    },
    {
      "cell_type": "code",
      "source": [
        "data.info()"
      ],
      "metadata": {
        "id": "_3epjjwAZtdY"
      },
      "execution_count": null,
      "outputs": []
    },
    {
      "cell_type": "code",
      "source": [
        "data.isna().sum()"
      ],
      "metadata": {
        "id": "CTMi5j0QWk-P"
      },
      "execution_count": null,
      "outputs": []
    },
    {
      "cell_type": "code",
      "source": [
        "# media BMI\n",
        "data['bmi'].mean()"
      ],
      "metadata": {
        "id": "_Whsw--ZWsMM"
      },
      "execution_count": null,
      "outputs": []
    },
    {
      "cell_type": "code",
      "source": [
        "# median BMI\n",
        "data['bmi'].median()"
      ],
      "metadata": {
        "id": "4UIzTGr-abKQ"
      },
      "execution_count": null,
      "outputs": []
    },
    {
      "cell_type": "code",
      "source": [
        "mean_bmi = data['bmi'].mean()"
      ],
      "metadata": {
        "id": "MdhgcLO-a1ha"
      },
      "execution_count": null,
      "outputs": []
    },
    {
      "cell_type": "code",
      "source": [
        "# Rellenamos los na con mean(BMI):\n",
        "data['bmi'] = data['bmi'].fillna(mean_bmi)"
      ],
      "metadata": {
        "id": "HuJOkainalmY"
      },
      "execution_count": null,
      "outputs": []
    },
    {
      "cell_type": "code",
      "source": [
        "data.info()"
      ],
      "metadata": {
        "id": "FCnnyXU8a_hf"
      },
      "execution_count": null,
      "outputs": []
    },
    {
      "cell_type": "code",
      "source": [
        "data.head()"
      ],
      "metadata": {
        "id": "soU_iN1xiE0V"
      },
      "execution_count": null,
      "outputs": []
    },
    {
      "cell_type": "markdown",
      "source": [
        "Ejemplo simple de como reemplazar valores"
      ],
      "metadata": {
        "id": "PPUg8kF6sBvS"
      }
    },
    {
      "cell_type": "code",
      "source": [
        "# Creamos un data frame ficticio:\n",
        "df = pd.DataFrame({'A': [0, 1, 2, 3, 4],\n",
        "                   'B': [5, 6, 7, 8, 9],\n",
        "                   'C': ['a', 'b', 'c', 'a', 'c']})"
      ],
      "metadata": {
        "id": "MM1v9J5CbBsY"
      },
      "execution_count": null,
      "outputs": []
    },
    {
      "cell_type": "code",
      "source": [
        "df"
      ],
      "metadata": {
        "id": "s8ZOILFEiNeP"
      },
      "execution_count": null,
      "outputs": []
    },
    {
      "cell_type": "code",
      "source": [
        "# Reemplazamos los valores necesarios:\n",
        "df = df.replace({'a':0, 'b':1, 'c':2})\n",
        "df"
      ],
      "metadata": {
        "id": "S2iGdMaoiOai"
      },
      "execution_count": null,
      "outputs": []
    },
    {
      "cell_type": "markdown",
      "source": [
        "### **ACTIVIDAD DE LA CLASE:**\n",
        "\n",
        "Buscar una base de datos donde puedan aplicar lo que vamos a ver a lo largo del curso. La idea es que la base sea lo más cruda posible (sin ninguna tarea precia de pre procesamiento)."
      ],
      "metadata": {
        "id": "ll9fASpIF6x3"
      }
    },
    {
      "cell_type": "code",
      "source": [],
      "metadata": {
        "id": "u7ppKzFAieHV"
      },
      "execution_count": null,
      "outputs": []
    }
  ],
  "metadata": {
    "colab": {
      "provenance": [],
      "include_colab_link": true
    },
    "kernelspec": {
      "display_name": "Python 3",
      "name": "python3"
    },
    "language_info": {
      "name": "python"
    }
  },
  "nbformat": 4,
  "nbformat_minor": 0
}